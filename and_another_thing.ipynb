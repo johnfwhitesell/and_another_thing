{
 "cells": [
  {
   "cell_type": "markdown",
   "metadata": {},
   "source": [
    "### and\n",
    "The logic of \"and\" is that it checks if the first thing is False, if so it stops immediately.  If the first thing isn't False it returns the second thing which can be True, False or something else.  Lists will go item by item.  However Pandas is built upon arrays not lists."
   ]
  },
  {
   "cell_type": "code",
   "execution_count": 1,
   "metadata": {},
   "outputs": [
    {
     "name": "stdout",
     "output_type": "stream",
     "text": [
      "It can handle: [True, True, False, False, 'eggs', 'spam', True, False]\n",
      "It can't handle the arrays item by item\n"
     ]
    }
   ],
   "source": [
    "from numpy import array\n",
    "\n",
    "first = [True, False, True, False, True, False, \"eggs\", \"spam\"]\n",
    "second = [True, True, False, False, \"eggs\", \"spam\",  True, False]\n",
    "print(\"It can handle:\", first and second)\n",
    "\n",
    "try:\n",
    "    print(array([True, True]) and array([True, False]))\n",
    "except:\n",
    "    print(\"It can't handle the arrays item by item\")"
   ]
  },
  {
   "cell_type": "markdown",
   "metadata": {},
   "source": [
    "### &\n",
    "\n",
    "The logic of \"&\" is that it tries to apply the basic bitwise logic, i.e. comparing True and False only.  However there is handling for numpy arrays.  Remember, pandas Series are numpy arrays with extra features added on top so if you put a series in a logical statement it will give an array to the logical operator, which for & works."
   ]
  },
  {
   "cell_type": "code",
   "execution_count": 2,
   "metadata": {},
   "outputs": [
    {
     "name": "stdout",
     "output_type": "stream",
     "text": [
      "This doesn't work because it doesn't have handling for lists.\n",
      "This doesn't work because it wants only True and False.\n",
      "This can go through arrays: [ True False False]\n",
      "It returns type: ndarray , same as it took in.\n"
     ]
    }
   ],
   "source": [
    "\n",
    "try:\n",
    "    print(first & second)\n",
    "except:\n",
    "    print(\"This doesn't work because it doesn't have handling for lists.\")\n",
    "    \n",
    "try:\n",
    "    print(\"eggs\" & True)\n",
    "except:\n",
    "    print(\"This doesn't work because it wants only True and False.\")\n",
    "\n",
    "x = array([1==1, True, 3<2]) & array([2==2, False, True])\n",
    "print(\"This can go through arrays:\", x)\n",
    "print(\"It returns type:\", type(x).__name__, \", same as it took in.\")"
   ]
  },
  {
   "cell_type": "code",
   "execution_count": null,
   "metadata": {},
   "outputs": [],
   "source": []
  }
 ],
 "metadata": {
  "kernelspec": {
   "display_name": "Python 3",
   "language": "python",
   "name": "python3"
  },
  "language_info": {
   "codemirror_mode": {
    "name": "ipython",
    "version": 3
   },
   "file_extension": ".py",
   "mimetype": "text/x-python",
   "name": "python",
   "nbconvert_exporter": "python",
   "pygments_lexer": "ipython3",
   "version": "3.6.4"
  }
 },
 "nbformat": 4,
 "nbformat_minor": 2
}
